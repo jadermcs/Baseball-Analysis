{
 "cells": [
  {
   "cell_type": "markdown",
   "metadata": {},
   "source": [
    "# Analise dos dados _Baseball Data_\n",
    "\n",
    "Um estudo dos dados estatísticos do Major League Baseball de 1871 a 2014. "
   ]
  },
  {
   "cell_type": "code",
   "execution_count": 1,
   "metadata": {
    "collapsed": false,
    "scrolled": false
   },
   "outputs": [],
   "source": [
    "#carregando as bibliotecas e configurações a serem utilizadas.\n",
    "import matplotlib.pyplot as plt\n",
    "import matplotlib.patches as mpatches\n",
    "import pandas as pd\n",
    "#import seaborn as sns\n",
    "import numpy as np\n",
    "import scipy.stats as stats\n",
    "from IPython.display import display\n",
    "\n",
    "plt.style.use('ggplot')\n",
    "%matplotlib inline"
   ]
  },
  {
   "cell_type": "markdown",
   "metadata": {},
   "source": [
    "### Jogadores de forma geral tem um bom custo/beneficio?\n",
    "\n",
    "Hipotese: Dado que salário de jogadores normalmente tendem a refletir a fama dele por jogadas, sendo marcando pontos ou fazendo lances que necessitam de extremo dominio do esporte, nesta primeira analise farei uma regressão entre custo e desempenho de jogadores em relação as principais jogadas. Há uma tendecia entre os salários pagos e quantos jogadas/pontos os rebatedores marcam? O salário do jogador é justificado apenas pelo seu desempenho?\n",
    "Serão mencionados os salario medio do periodo e os pontos marcados com home-runs (HR) no periodo. Serão analisador apenas dados deste milenio."
   ]
  },
  {
   "cell_type": "code",
   "execution_count": 2,
   "metadata": {
    "collapsed": false,
    "scrolled": false
   },
   "outputs": [
    {
     "data": {
      "text/html": [
       "<div>\n",
       "<table border=\"1\" class=\"dataframe\">\n",
       "  <thead>\n",
       "    <tr style=\"text-align: right;\">\n",
       "      <th></th>\n",
       "      <th>yearID</th>\n",
       "      <th>playerID</th>\n",
       "      <th>salary</th>\n",
       "    </tr>\n",
       "  </thead>\n",
       "  <tbody>\n",
       "    <tr>\n",
       "      <th>12263</th>\n",
       "      <td>2000</td>\n",
       "      <td>anderga01</td>\n",
       "      <td>3250000</td>\n",
       "    </tr>\n",
       "    <tr>\n",
       "      <th>12264</th>\n",
       "      <td>2000</td>\n",
       "      <td>belchti01</td>\n",
       "      <td>4600000</td>\n",
       "    </tr>\n",
       "    <tr>\n",
       "      <th>12265</th>\n",
       "      <td>2000</td>\n",
       "      <td>botteke01</td>\n",
       "      <td>4000000</td>\n",
       "    </tr>\n",
       "  </tbody>\n",
       "</table>\n",
       "</div>"
      ],
      "text/plain": [
       "       yearID   playerID   salary\n",
       "12263    2000  anderga01  3250000\n",
       "12264    2000  belchti01  4600000\n",
       "12265    2000  botteke01  4000000"
      ]
     },
     "metadata": {},
     "output_type": "display_data"
    },
    {
     "data": {
      "text/html": [
       "<div>\n",
       "<table border=\"1\" class=\"dataframe\">\n",
       "  <thead>\n",
       "    <tr style=\"text-align: right;\">\n",
       "      <th></th>\n",
       "      <th>playerID</th>\n",
       "      <th>yearID</th>\n",
       "      <th>HR</th>\n",
       "      <th>R</th>\n",
       "      <th>H</th>\n",
       "      <th>2B</th>\n",
       "      <th>3B</th>\n",
       "      <th>SB</th>\n",
       "      <th>G</th>\n",
       "    </tr>\n",
       "  </thead>\n",
       "  <tbody>\n",
       "    <tr>\n",
       "      <th>79248</th>\n",
       "      <td>abbotje01</td>\n",
       "      <td>2000</td>\n",
       "      <td>3.0</td>\n",
       "      <td>31.0</td>\n",
       "      <td>59.0</td>\n",
       "      <td>15.0</td>\n",
       "      <td>1.0</td>\n",
       "      <td>2.0</td>\n",
       "      <td>80</td>\n",
       "    </tr>\n",
       "    <tr>\n",
       "      <th>79249</th>\n",
       "      <td>abbotku01</td>\n",
       "      <td>2000</td>\n",
       "      <td>6.0</td>\n",
       "      <td>22.0</td>\n",
       "      <td>34.0</td>\n",
       "      <td>7.0</td>\n",
       "      <td>1.0</td>\n",
       "      <td>1.0</td>\n",
       "      <td>79</td>\n",
       "    </tr>\n",
       "    <tr>\n",
       "      <th>79250</th>\n",
       "      <td>abbotpa01</td>\n",
       "      <td>2000</td>\n",
       "      <td>0.0</td>\n",
       "      <td>1.0</td>\n",
       "      <td>2.0</td>\n",
       "      <td>1.0</td>\n",
       "      <td>0.0</td>\n",
       "      <td>0.0</td>\n",
       "      <td>35</td>\n",
       "    </tr>\n",
       "  </tbody>\n",
       "</table>\n",
       "</div>"
      ],
      "text/plain": [
       "        playerID  yearID   HR     R     H    2B   3B   SB   G\n",
       "79248  abbotje01    2000  3.0  31.0  59.0  15.0  1.0  2.0  80\n",
       "79249  abbotku01    2000  6.0  22.0  34.0   7.0  1.0  1.0  79\n",
       "79250  abbotpa01    2000  0.0   1.0   2.0   1.0  0.0  0.0  35"
      ]
     },
     "metadata": {},
     "output_type": "display_data"
    }
   ],
   "source": [
    "#organizando os dados\n",
    "dfcusto = pd.read_csv('core/Salaries.csv')\n",
    "dfbenef = pd.read_csv('core/Batting.csv')\n",
    "#descartando colunas desnecessárias\n",
    "dfcusto.drop(['teamID','lgID'], axis=1, inplace=True)\n",
    "dfbenef = dfbenef[['playerID','yearID','HR','R','H','2B','3B','SB','G']]\n",
    "#obtendo apenas dados após 1979\n",
    "dfcusto = dfcusto[dfcusto['yearID']>1999]\n",
    "dfbenef = dfbenef[dfbenef['yearID']>1999]\n",
    "#descarta jogadores que não jogaram aquele ano para evitar erros\n",
    "dfbenef = dfbenef[dfbenef['G']>0]\n",
    "#printando\n",
    "display(dfcusto.head(3))\n",
    "display(dfbenef.head(3))"
   ]
  },
  {
   "cell_type": "markdown",
   "metadata": {},
   "source": [
    "Através de uma consulta rápida obtive que as jogadas favoritas dos fãs de baseball são essas : 'Homeruns(HR)','Runs(R)','Hits(H)','Doubles(2B)','Triples(3B)','Stolen Bases(SB)'\n",
    "Assim separei-as para um dataframe as quais seriam avaliadas, após isso dividi em jogadas por jogo, para ter uma resposta da média de jogadas para o jogador."
   ]
  },
  {
   "cell_type": "code",
   "execution_count": 4,
   "metadata": {
    "collapsed": false,
    "scrolled": false
   },
   "outputs": [
    {
     "data": {
      "text/html": [
       "<div>\n",
       "<table border=\"1\" class=\"dataframe\">\n",
       "  <thead>\n",
       "    <tr style=\"text-align: right;\">\n",
       "      <th></th>\n",
       "      <th>2B/G</th>\n",
       "      <th>3B/G</th>\n",
       "      <th>H/G</th>\n",
       "      <th>HR/G</th>\n",
       "      <th>R/G</th>\n",
       "      <th>SB/G</th>\n",
       "      <th>salary</th>\n",
       "    </tr>\n",
       "  </thead>\n",
       "  <tbody>\n",
       "    <tr>\n",
       "      <th>aardsda01</th>\n",
       "      <td>0.0</td>\n",
       "      <td>0.0</td>\n",
       "      <td>0.000000</td>\n",
       "      <td>0.0</td>\n",
       "      <td>0.000000</td>\n",
       "      <td>0.0</td>\n",
       "      <td>1322821.0</td>\n",
       "    </tr>\n",
       "    <tr>\n",
       "      <th>abadan01</th>\n",
       "      <td>0.0</td>\n",
       "      <td>0.0</td>\n",
       "      <td>0.074074</td>\n",
       "      <td>0.0</td>\n",
       "      <td>0.037037</td>\n",
       "      <td>0.0</td>\n",
       "      <td>327000.0</td>\n",
       "    </tr>\n",
       "    <tr>\n",
       "      <th>abadfe01</th>\n",
       "      <td>0.0</td>\n",
       "      <td>0.0</td>\n",
       "      <td>0.004505</td>\n",
       "      <td>0.0</td>\n",
       "      <td>0.000000</td>\n",
       "      <td>0.0</td>\n",
       "      <td>629100.0</td>\n",
       "    </tr>\n",
       "  </tbody>\n",
       "</table>\n",
       "</div>"
      ],
      "text/plain": [
       "           2B/G  3B/G       H/G  HR/G       R/G  SB/G     salary\n",
       "aardsda01   0.0   0.0  0.000000   0.0  0.000000   0.0  1322821.0\n",
       "abadan01    0.0   0.0  0.074074   0.0  0.037037   0.0   327000.0\n",
       "abadfe01    0.0   0.0  0.004505   0.0  0.000000   0.0   629100.0"
      ]
     },
     "execution_count": 4,
     "metadata": {},
     "output_type": "execute_result"
    }
   ],
   "source": [
    "df = {}\n",
    "#cria colunas médias de jogadas por jogo\n",
    "for x in ['HR','R','H','2B','3B','SB']:\n",
    "    name = x + '/G'\n",
    "    dfbenef[name] = dfbenef[x]/dfbenef['G']\n",
    "    #obtendo a media salarial e de home-runs por jogo\n",
    "    df[name] = dfbenef.groupby('playerID')[name].mean()\n",
    "\n",
    "df['salary'] = dfcusto.groupby('playerID')['salary'].mean()\n",
    "#descarta valores faltando\n",
    "df = pd.DataFrame(data=df).dropna()\n",
    "df.head(3)"
   ]
  },
  {
   "cell_type": "code",
   "execution_count": 7,
   "metadata": {
    "collapsed": false
   },
   "outputs": [
    {
     "data": {
      "text/plain": [
       "<matplotlib.axes._subplots.AxesSubplot at 0x7f94e98aa8d0>"
      ]
     },
     "execution_count": 7,
     "metadata": {},
     "output_type": "execute_result"
    },
    {
     "data": {
      "image/png": "[encoded data removed]",
      "text/plain": [
       "<matplotlib.figure.Figure at 0x7f94e98a3ba8>"
      ]
     },
     "metadata": {},
     "output_type": "display_data"
    }
   ],
   "source": [
    "#analisando a distribuição\n",
    "df[['HR/G','R/G','H/G','2B/G','3B/G','SB/G']].plot.hist(stacked=True, bins=20)"
   ]
  },
  {
   "cell_type": "code",
   "execution_count": 5,
   "metadata": {
    "collapsed": false
   },
   "outputs": [
    {
     "data": {
      "text/plain": [
       "<matplotlib.axes._subplots.AxesSubplot at 0x7f94e9ad0898>"
      ]
     },
     "execution_count": 5,
     "metadata": {},
     "output_type": "execute_result"
    },
    {
     "data": {
      "image/png": "[encoded data removed]",
      "text/plain": [
       "<matplotlib.figure.Figure at 0x7f94e9a6c550>"
      ]
     },
     "metadata": {},
     "output_type": "display_data"
    }
   ],
   "source": [
    "#normalizando os dados pelo desvio padrão\n",
    "for x in df.keys():\n",
    "    df[x] = (df[x] - df[x].mean()) / df[x].std()\n",
    "\n",
    "df.boxplot()"
   ]
  },
  {
   "cell_type": "markdown",
   "metadata": {},
   "source": [
    "Podemos ver que as jogadas Stolen Bases, Triples e Homeruns tem a maior variação entre os jogadores, assim focaremos nestas três jogadas para analisar a varição salarial"
   ]
  },
  {
   "cell_type": "code",
   "execution_count": null,
   "metadata": {
    "collapsed": false,
    "scrolled": false
   },
   "outputs": [],
   "source": [
    "f, ((ax1, ax2, ax3)) = plt.subplots(3, sharex='col', sharey='row')\n",
    "ax = [ax1,ax2,ax3]\n",
    "y = df['salary']\n",
    "for i,k in enumerate(['SB/G','3B/G','HR/G']):\n",
    "    x = df[k]\n",
    "    ax[i].scatter(x,y,marker='x')\n",
    "    slope, intercept, r_value, p_value, std_err = stats.linregress(x,y)\n",
    "    xl = np.linspace(x.min(),x.max(),2)\n",
    "    yl = xl * slope + intercept\n",
    "    ax[i].plot(xl,yl)\n",
    "    display(\"{} = r_value: {:.4}, p_value: {:.4}, std_err: {:.4}\".format(k,r_value, p_value, std_err))"
   ]
  },
  {
   "cell_type": "markdown",
   "metadata": {},
   "source": [
    "Conclusão: Através da analise do gráfico acima podemos ver que sendo x o numero de jogadas e analisando cada r_value separadamente, vemos que a jogada que melhor explica o salário são os Homeruns marcados, porém não é tudo, existem outras variaveis que causam um maior salário para o jogador."
   ]
  },
  {
   "cell_type": "code",
   "execution_count": null,
   "metadata": {
    "collapsed": false,
    "scrolled": false
   },
   "outputs": [],
   "source": []
  }
 ],
 "metadata": {
  "kernelspec": {
   "display_name": "Python 3",
   "language": "python",
   "name": "python3"
  },
  "language_info": {
   "codemirror_mode": {
    "name": "ipython",
    "version": 3
   },
   "file_extension": ".py",
   "mimetype": "text/x-python",
   "name": "python",
   "nbconvert_exporter": "python",
   "pygments_lexer": "ipython3",
   "version": "3.5.2+"
  }
 },
 "nbformat": 4,
 "nbformat_minor": 2
}
